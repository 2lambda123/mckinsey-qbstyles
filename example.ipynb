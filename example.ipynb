{
 "cells": [
  {
   "cell_type": "markdown",
   "metadata": {},
   "source": [
    "### Import libraries"
   ]
  },
  {
   "cell_type": "code",
   "execution_count": null,
   "metadata": {},
   "outputs": [],
   "source": [
    "import matplotlib.pyplot as plt\n",
    "import seaborn as sns\n",
    "import numpy as np\n",
    "from math import sin, pi\n",
    "import warnings\n",
    "\n",
    "from qb import qb_style"
   ]
  },
  {
   "cell_type": "markdown",
   "metadata": {},
   "source": [
    "### Choose between interactive or static plots:"
   ]
  },
  {
   "cell_type": "code",
   "execution_count": null,
   "metadata": {},
   "outputs": [],
   "source": [
    "# interactive plots:\n",
    "# %matplotlib notebook\n",
    "\n",
    "# static plots:\n",
    "%matplotlib inline"
   ]
  },
  {
   "cell_type": "markdown",
   "metadata": {},
   "source": [
    "### Test plot definitions:"
   ]
  },
  {
   "cell_type": "code",
   "execution_count": null,
   "metadata": {},
   "outputs": [],
   "source": [
    "# LINE PLOT\n",
    "def line_plot(ax):\n",
    "    rng = np.random.RandomState(4)\n",
    "    x = np.linspace(0, 10, 500)\n",
    "    y = np.cumsum(rng.randn(500, 4), 0)\n",
    "    ax.set_title('Line Graph')\n",
    "    ax.set_xlabel('— Time')\n",
    "    ax.set_ylabel('— Random values')\n",
    "    ax.legend(['Bitcoin', 'Ethereum', 'Dollar', 'Oil'])\n",
    "    ax.set_xlim([0, 10])\n",
    "    ax.set_ylim([-20, 60])\n",
    "    ax.plot(x, y)\n",
    "\n",
    "# SCATTER PLOT\n",
    "def scatter_plot(ax):\n",
    "    rng = np.random.RandomState(4)\n",
    "    x = np.linspace(0.6, pi-0.6, 100)\n",
    "    y = [sin(x) + rng.rand() - 0.5 for x in x]\n",
    "    t = np.linspace(-1, pi+0.2, 300)\n",
    "    z = [0.5*sin(x*5) + rng.rand() - 0.5 for x in t]\n",
    "    ax.set_title('Scatter Plot')\n",
    "    ax.set_xlabel('— space')\n",
    "    ax.set_ylabel('— altitude')\n",
    "    ax.legend(['sun', 'mountain'])\n",
    "    plt.xlim([-0.2, pi+0.2])\n",
    "    plt.ylim([-1.6, 1.6])\n",
    "    ax.scatter(x, y, s=100, alpha=.6)\n",
    "    ax.scatter(t, z, s=100, alpha=.6, marker='^')\n",
    "\n",
    "# DISTRIBUTIONS\n",
    "def distribution_plot(ax):\n",
    "    np.random.seed(2)\n",
    "    data = np.random.multivariate_normal((0, 0), [(5, 2), (2, 2)], size=2000)\n",
    "    data[:, 1] = np.add(data[:, 1], 2)\n",
    "    ax.set_title('Distribution Plot')\n",
    "    ax.set_xlabel('— Density')\n",
    "    ax.set_ylabel('— Random values')\n",
    "    ax.set_xlim([-10, 10])\n",
    "    ax.set_ylim([0, 0.31])\n",
    "    \n",
    "    # supress seaborn FutureWarnings\n",
    "    warnings.simplefilter(action='ignore', category=(FutureWarning, UserWarning))\n",
    "    for col in range(2):\n",
    "        sns.distplot(data[:, col], ax=ax)\n",
    "\n",
    "# POLAR PLOT\n",
    "def polar_plot(ax):\n",
    "    r = np.arange(0, 3.0, 0.01)\n",
    "    theta = 2 * pi * r\n",
    "    ax.plot(theta, r)\n",
    "    ax.plot(0.5 * theta, r, ls='--')\n",
    "    ax.set_title(\"Polar Axis Plot\")"
   ]
  },
  {
   "cell_type": "markdown",
   "metadata": {},
   "source": [
    "## Use QB's style:"
   ]
  },
  {
   "cell_type": "code",
   "execution_count": null,
   "metadata": {},
   "outputs": [],
   "source": [
    "qb_style()\n",
    "fig, axes = plt.subplots(2, 2, figsize=(15, 10))\n",
    "\n",
    "# scroll up for the definition of these functions\n",
    "line_plot(axes[0, 0])\n",
    "scatter_plot(axes[0, 1])\n",
    "distribution_plot(axes[1, 0])\n",
    "ax = plt.subplot(2, 2, 4, projection='polar')\n",
    "polar_plot(ax)\n",
    "plt.tight_layout()"
   ]
  },
  {
   "cell_type": "code",
   "execution_count": null,
   "metadata": {},
   "outputs": [],
   "source": [
    "qb_style(dark=False)\n",
    "fig, axes = plt.subplots(2, 2, figsize=(15, 10))\n",
    "\n",
    "# scroll up for the definition of these functions\n",
    "line_plot(axes[0, 0])\n",
    "scatter_plot(axes[0, 1])\n",
    "distribution_plot(axes[1, 0])\n",
    "ax = plt.subplot(2, 2, 4, projection='polar')\n",
    "polar_plot(ax)\n",
    "plt.tight_layout()"
   ]
  }
 ],
 "metadata": {
  "kernelspec": {
   "display_name": "Python 3",
   "language": "python",
   "name": "python3"
  },
  "language_info": {
   "codemirror_mode": {
    "name": "ipython",
    "version": 3
   },
   "file_extension": ".py",
   "mimetype": "text/x-python",
   "name": "python",
   "nbconvert_exporter": "python",
   "pygments_lexer": "ipython3",
   "version": "3.6.8"
  }
 },
 "nbformat": 4,
 "nbformat_minor": 2
}
